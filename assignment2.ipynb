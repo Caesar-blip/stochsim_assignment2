{
 "cells": [
  {
   "cell_type": "code",
   "execution_count": 1,
   "id": "2f2c6bf1",
   "metadata": {},
   "outputs": [],
   "source": [
    "from helpers import *\n",
    "import pandas as pd\n",
    "import scipy.stats as st\n",
    "import matplotlib.pyplot as plt"
   ]
  },
  {
   "cell_type": "code",
   "execution_count": 2,
   "id": "a02f04b7",
   "metadata": {},
   "outputs": [],
   "source": [
    "# set globals for all simulations to keep them comparable\n",
    "NUM_SIM = 500\n",
    "NUM_CUST = 500\n",
    "SERVICE_TIME = 2\n",
    "\n",
    "p = np.array([0.1,0.2,0.3,0.4,0.5,0.6,0.7,0.8,0.9])\n",
    "intervalCustomers = SERVICE_TIME/p"
   ]
  },
  {
   "cell_type": "code",
   "execution_count": 3,
   "id": "60985427",
   "metadata": {},
   "outputs": [],
   "source": [
    "#2.2\n",
    "simulator1 = queuSim(capacity=1, numSim=5)\n",
    "simulator2 = queuSim(capacity=2, numSim=5)\n",
    "simulator4 = queuSim(capacity=4, numSim=5)"
   ]
  },
  {
   "cell_type": "code",
   "execution_count": 4,
   "id": "b18866dd",
   "metadata": {},
   "outputs": [],
   "source": [
    "waitTimes1 = simulator1.runSim()\n",
    "waitTimes2 = simulator2.runSim()\n",
    "waitTimes4 = simulator4.runSim()"
   ]
  },
  {
   "cell_type": "code",
   "execution_count": 5,
   "id": "b50fa155",
   "metadata": {},
   "outputs": [
    {
     "data": {
      "text/plain": [
       "F_onewayResult(statistic=395.55022861618073, pvalue=1.2201529333850549e-138)"
      ]
     },
     "execution_count": 5,
     "metadata": {},
     "output_type": "execute_result"
    }
   ],
   "source": [
    "# we can reject the null hypothesis\n",
    "st.f_oneway(waitTimes1, waitTimes2, waitTimes4)"
   ]
  },
  {
   "cell_type": "code",
   "execution_count": 6,
   "id": "6ae5eabd",
   "metadata": {},
   "outputs": [
    {
     "name": "stdout",
     "output_type": "stream",
     "text": [
      "Ttest_indResult(statistic=24.83318244567035, pvalue=2.19098049879852e-106)\n",
      "Ttest_indResult(statistic=4.615109426962996, pvalue=4.440570353352459e-06)\n",
      "Ttest_indResult(statistic=31.893380554514597, pvalue=1.832311840034686e-154)\n"
     ]
    }
   ],
   "source": [
    "# post hoc tests prove that there are differences between all populations\n",
    "print(st.ttest_ind(waitTimes1, waitTimes4))\n",
    "print(st.ttest_ind(waitTimes1, waitTimes2))\n",
    "print(st.ttest_ind(waitTimes2, waitTimes4))"
   ]
  },
  {
   "cell_type": "code",
   "execution_count": null,
   "id": "05a86b75",
   "metadata": {},
   "outputs": [],
   "source": [
    "print(np.mean(waitTimes1))\n",
    "print(np.mean(waitTimes1))\n",
    "print(np.mean(waitTimes4))\n"
   ]
  },
  {
   "cell_type": "code",
   "execution_count": 7,
   "id": "038b3922",
   "metadata": {},
   "outputs": [],
   "source": [
    "# 2.2, run multiple simulations for different p\n",
    "# service time is fixed at 2 \n",
    "# customer intervals gets scaled for the amount of servers\n",
    "# p = 2/intervalcustomers\n",
    "means1 = []\n",
    "means2 = []\n",
    "means4 = []\n",
    "err1 = []\n",
    "err2 = []\n",
    "err4 = []\n",
    "\n",
    "for count, time in enumerate(intervalCustomers):\n",
    "    simulator1 = queuSim(capacity=1, numSim=NUM_SIM, newCustomers = NUM_CUST, intervalCustomers = time)\n",
    "    simulator2 = queuSim(capacity=2, numSim=NUM_SIM, newCustomers = NUM_CUST, intervalCustomers = time)\n",
    "    simulator4 = queuSim(capacity=4, numSim=NUM_SIM, newCustomers = NUM_CUST, intervalCustomers = time)\n",
    "    \n",
    "    result1 = simulator1.runSim()\n",
    "    result2 = simulator2.runSim()\n",
    "    result4 = simulator4.runSim()\n",
    "    \n",
    "    means1.append(np.mean(result1))\n",
    "    means2.append(np.mean(result2))\n",
    "    means4.append(np.mean(result4))\n",
    "    \n",
    "    err1.append(np.std(result1))\n",
    "    err2.append(np.std(result2))\n",
    "    err4.append(np.std(result4))"
   ]
  },
  {
   "cell_type": "code",
   "execution_count": 8,
   "id": "946afd0a",
   "metadata": {},
   "outputs": [
    {
     "data": {
      "text/plain": [
       "<matplotlib.legend.Legend at 0x23b779c8b80>"
      ]
     },
     "execution_count": 8,
     "metadata": {},
     "output_type": "execute_result"
    },
    {
     "data": {
      "image/png": "[encoded data removed]",
      "text/plain": [
       "<Figure size 432x288 with 1 Axes>"
      ]
     },
     "metadata": {
      "needs_background": "light"
     },
     "output_type": "display_data"
    }
   ],
   "source": [
    "dfAllMar = pd.DataFrame({'1 server': means1,\n",
    "                      '2 servers': means2,\n",
    "                      '4 servers': means4}, index = p) \n",
    "\n",
    "ax = dfAllMar.plot.bar(title = \"mean waiting time in M/M/N system with different workloads\",\n",
    "               ylabel = \"mean waiting time\", xlabel=\"system workload\", yerr=[err1, err2,err4])\n",
    "ax.legend(loc=2)"
   ]
  },
  {
   "cell_type": "code",
   "execution_count": 9,
   "id": "558de9cb",
   "metadata": {},
   "outputs": [],
   "source": [
    "# assignment 2.3, use a different service strategy. Shortest job first(SJF).\n",
    "means1 = []\n",
    "means2 = []\n",
    "means4 = []\n",
    "err1 = []\n",
    "err2 = []\n",
    "err4 = []\n",
    "\n",
    "for count, time in enumerate(intervalCustomers):\n",
    "    simulator1 = queuSim(capacity=1, numSim=NUM_SIM, newCustomers = NUM_CUST, helpStrat = \"SJF\", intervalCustomers = time)\n",
    "    simulator2 = queuSim(capacity=2, numSim=NUM_SIM, newCustomers = NUM_CUST, helpStrat = \"SJF\", intervalCustomers = time)\n",
    "    simulator4 = queuSim(capacity=4, numSim=NUM_SIM, newCustomers = NUM_CUST, helpStrat = \"SJF\", intervalCustomers = time)\n",
    "    \n",
    "    result1 = simulator1.runSim()\n",
    "    result2 = simulator2.runSim()\n",
    "    result4 = simulator4.runSim()\n",
    "    \n",
    "    means1.append(np.mean(result1))\n",
    "    means2.append(np.mean(result2))\n",
    "    means4.append(np.mean(result4))\n",
    "    \n",
    "    err1.append(np.std(result1))\n",
    "    err2.append(np.std(result2))\n",
    "    err4.append(np.std(result4))"
   ]
  },
  {
   "cell_type": "code",
   "execution_count": 10,
   "id": "870857e4",
   "metadata": {},
   "outputs": [
    {
     "data": {
      "text/plain": [
       "<matplotlib.legend.Legend at 0x23b74b50790>"
      ]
     },
     "execution_count": 10,
     "metadata": {},
     "output_type": "execute_result"
    },
    {
     "data": {
      "image/png": "[encoded data removed]",
      "text/plain": [
       "<Figure size 432x288 with 1 Axes>"
      ]
     },
     "metadata": {
      "needs_background": "light"
     },
     "output_type": "display_data"
    }
   ],
   "source": [
    "dfAllSJF = pd.DataFrame({'1 server': means1,\n",
    "                      '2 servers': means2,\n",
    "                      '4 servers': means4}, index = p) \n",
    "\n",
    "ax = dfAllSJF.plot.bar(title = \"mean waiting time in M/M/N/SJF system with different workloads\",\n",
    "               ylabel = \"mean waiting time\", xlabel=\"system workload\", yerr=[err1, err2,err4])\n",
    "ax.legend(loc=2)"
   ]
  },
  {
   "cell_type": "code",
   "execution_count": 11,
   "id": "51759ce4",
   "metadata": {},
   "outputs": [],
   "source": [
    "##2.4\n",
    "# Deterministic sercive distribution\n",
    "means1 = []\n",
    "means2 = []\n",
    "means4 = []\n",
    "err1 = []\n",
    "err2 = []\n",
    "err4 = []\n",
    "\n",
    "for count, time in enumerate(intervalCustomers):\n",
    "    simulator1 = queuSim(capacity=1, numSim=NUM_SIM, newCustomers = NUM_CUST, intervalCustomers = time, serviceDistribution = \"D\")\n",
    "    simulator2 = queuSim(capacity=2, numSim=NUM_SIM, newCustomers = NUM_CUST, intervalCustomers = time, serviceDistribution = \"D\")\n",
    "    simulator4 = queuSim(capacity=4, numSim=NUM_SIM, newCustomers = NUM_CUST, intervalCustomers = time, serviceDistribution = \"D\")\n",
    "    \n",
    "    result1 = simulator1.runSim()\n",
    "    result2 = simulator2.runSim()\n",
    "    result4 = simulator4.runSim()\n",
    "    \n",
    "    means1.append(np.mean(result1))\n",
    "    means2.append(np.mean(result2))\n",
    "    means4.append(np.mean(result4))\n",
    "    \n",
    "    err1.append(np.std(result1))\n",
    "    err2.append(np.std(result2))\n",
    "    err4.append(np.std(result4))"
   ]
  },
  {
   "cell_type": "code",
   "execution_count": 12,
   "id": "c58cb979",
   "metadata": {},
   "outputs": [
    {
     "data": {
      "text/plain": [
       "<matplotlib.legend.Legend at 0x23b76b08ee0>"
      ]
     },
     "execution_count": 12,
     "metadata": {},
     "output_type": "execute_result"
    },
    {
     "data": {
      "image/png": "[encoded data removed]",
      "text/plain": [
       "<Figure size 432x288 with 1 Axes>"
      ]
     },
     "metadata": {
      "needs_background": "light"
     },
     "output_type": "display_data"
    }
   ],
   "source": [
    "dfAllDet = pd.DataFrame({'1 server': means1,\n",
    "                      '2 servers': means2,\n",
    "                      '4 servers': means4}, index = p) \n",
    "\n",
    "ax = dfAllDet.plot.bar(title = \"mean waiting time in M/D/N system with different workloads\",\n",
    "               ylabel = \"mean waiting time\", xlabel=\"system workload\", yerr=[err1, err2,err4])\n",
    "ax.legend(loc=2)"
   ]
  },
  {
   "cell_type": "code",
   "execution_count": 13,
   "id": "b881db33",
   "metadata": {},
   "outputs": [],
   "source": [
    "##2.4\n",
    "# Deterministic sercive distribution\n",
    "means1 = []\n",
    "means2 = []\n",
    "means4 = []\n",
    "err1 = []\n",
    "err2 = []\n",
    "err4 = []\n",
    "\n",
    "for count, time in enumerate(intervalCustomers):\n",
    "    simulator1 = queuSim(capacity=1, numSim=NUM_SIM, newCustomers = NUM_CUST, intervalCustomers = time, serviceDistribution = \"H\")\n",
    "    simulator2 = queuSim(capacity=2, numSim=NUM_SIM, newCustomers = NUM_CUST, intervalCustomers = time, serviceDistribution = \"H\")\n",
    "    simulator4 = queuSim(capacity=4, numSim=NUM_SIM, newCustomers = NUM_CUST, intervalCustomers = time, serviceDistribution = \"H\")\n",
    "    \n",
    "    result1 = simulator1.runSim()\n",
    "    result2 = simulator2.runSim()\n",
    "    result4 = simulator4.runSim()\n",
    "    \n",
    "    means1.append(np.mean(result1))\n",
    "    means2.append(np.mean(result2))\n",
    "    means4.append(np.mean(result4))\n",
    "    \n",
    "    err1.append(np.std(result1))\n",
    "    err2.append(np.std(result2))\n",
    "    err4.append(np.std(result4))"
   ]
  },
  {
   "cell_type": "code",
   "execution_count": 14,
   "id": "f2ff2a52",
   "metadata": {},
   "outputs": [
    {
     "data": {
      "text/plain": [
       "<matplotlib.legend.Legend at 0x23b74890310>"
      ]
     },
     "execution_count": 14,
     "metadata": {},
     "output_type": "execute_result"
    },
    {
     "data": {
      "image/png": "[encoded data removed]",
      "text/plain": [
       "<Figure size 432x288 with 1 Axes>"
      ]
     },
     "metadata": {
      "needs_background": "light"
     },
     "output_type": "display_data"
    }
   ],
   "source": [
    "dfAllHyp = pd.DataFrame({'1 server': means1,\n",
    "                      '2 servers': means2,\n",
    "                      '4 servers': means4}, index = p) \n",
    "\n",
    "ax = dfAllHyp.plot.bar(title = \"mean waiting time in M/H/N system with different workloads\",\n",
    "               ylabel = \"mean waiting time\", xlabel=\"system workload\", yerr=[err1, err2,err4])\n",
    "ax.legend(loc=2)"
   ]
  }
 ],
 "metadata": {
  "kernelspec": {
   "display_name": "Python 3",
   "language": "python",
   "name": "python3"
  },
  "language_info": {
   "codemirror_mode": {
    "name": "ipython",
    "version": 3
   },
   "file_extension": ".py",
   "mimetype": "text/x-python",
   "name": "python",
   "nbconvert_exporter": "python",
   "pygments_lexer": "ipython3",
   "version": "3.9.2"
  }
 },
 "nbformat": 4,
 "nbformat_minor": 5
}
