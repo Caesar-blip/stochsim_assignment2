{
 "cells": [
  {
   "cell_type": "code",
   "execution_count": 1,
   "id": "2f2c6bf1",
   "metadata": {},
   "outputs": [],
   "source": [
    "from helpers import *\n",
    "import pandas as pd"
   ]
  },
  {
   "cell_type": "code",
   "execution_count": 2,
   "id": "60985427",
   "metadata": {},
   "outputs": [],
   "source": [
    "#2.2\n",
    "simulator1 = queuSim(capacity=1, numSim=5)\n",
    "simulator2 = queuSim(capacity=2, numSim=5)\n",
    "simulator4 = queuSim(capacity=4, numSim=5)"
   ]
  },
  {
   "cell_type": "code",
   "execution_count": 3,
   "id": "b18866dd",
   "metadata": {},
   "outputs": [],
   "source": [
    "waitTimes1 = simulator1.runSim()\n",
    "waitTimes2 = simulator2.runSim()\n",
    "waitTimes4 = simulator4.runSim()"
   ]
  },
  {
   "cell_type": "code",
   "execution_count": null,
   "id": "2e86dff1",
   "metadata": {},
   "outputs": [],
   "source": [
    "# we can reject the null hypothesis\n",
    "st.f_oneway(waitTimes1, waitTimes2, waitTimes4)"
   ]
  },
  {
   "cell_type": "code",
   "execution_count": null,
   "id": "cf11c9a2",
   "metadata": {},
   "outputs": [],
   "source": [
    "# post hoc tests prove that there are differences between all populations\n",
    "print(st.ttest_ind(waitTimes1, waitTimes4))\n",
    "print(st.ttest_ind(waitTimes1, waitTimes2))\n",
    "print(st.ttest_ind(waitTimes2, waitTimes4))"
   ]
  },
  {
   "cell_type": "code",
   "execution_count": 4,
   "id": "2ed25388",
   "metadata": {},
   "outputs": [],
   "source": [
    "# 2.2, run multiple simulations for different p\n",
    "# service time is fixed at 2 \n",
    "# customer intervals gets scaled for the amount of servers\n",
    "# p = 2/intervalcustomers\n",
    "p = np.array([0.1,0.2,0.3,0.4,0.5,0.6,0.7,0.8,0.9])\n",
    "intervalCustomers = 2/p\n",
    "means1 = []\n",
    "means2 = []\n",
    "means4 = []\n",
    "err1 = []\n",
    "err2 = []\n",
    "err4 = []\n",
    "\n",
    "for count, time in enumerate(intervalCustomers):\n",
    "    simulator1 = queuSim(capacity=1, numSim=50, newCustomers = 5000, intervalCustomers = time)\n",
    "    simulator2 = queuSim(capacity=2, numSim=50, newCustomers = 5000, intervalCustomers = time)\n",
    "    simulator4 = queuSim(capacity=4, numSim=50, newCustomers = 5000, intervalCustomers = time)\n",
    "    \n",
    "    result1 = simulator1.runSim()\n",
    "    result2 = simulator2.runSim()\n",
    "    result4 = simulator4.runSim()\n",
    "    \n",
    "    means1.append(np.mean(result1))\n",
    "    means2.append(np.mean(result2))\n",
    "    means4.append(np.mean(result4))\n",
    "    \n",
    "    err1.append(np.std(result1))\n",
    "    err2.append(np.std(result2))\n",
    "    err4.append(np.std(result4))"
   ]
  },
  {
   "cell_type": "code",
   "execution_count": 5,
   "id": "f4109aff",
   "metadata": {},
   "outputs": [],
   "source": [
    "dfAll = pd.DataFrame({'1 server': means1,\n",
    "                      '2 servers': means2,\n",
    "                      '4 servers': means4}, index = p) "
   ]
  },
  {
   "cell_type": "code",
   "execution_count": 6,
   "id": "341dcc81",
   "metadata": {},
   "outputs": [
    {
     "data": {
      "text/plain": [
       "<matplotlib.legend.Legend at 0x19c95b07190>"
      ]
     },
     "execution_count": 6,
     "metadata": {},
     "output_type": "execute_result"
    },
    {
     "data": {
      "image/png": "[encoded data removed]",
      "text/plain": [
       "<Figure size 432x288 with 1 Axes>"
      ]
     },
     "metadata": {
      "needs_background": "light"
     },
     "output_type": "display_data"
    }
   ],
   "source": [
    "ax = dfAll.plot.bar(title = \"mean waiting time in M/M/N system with different workloads\",\n",
    "               ylabel = \"mean waiting time\", xlabel=\"system workload\", yerr=[err1, err2,err4])\n",
    "ax.legend(loc=2)"
   ]
  },
  {
   "cell_type": "code",
   "execution_count": null,
   "id": "19fb500a",
   "metadata": {},
   "outputs": [],
   "source": [
    "# assignment 2.3, use a different service strategy. Shortest job first.\n"
   ]
  },
  {
   "cell_type": "code",
   "execution_count": null,
   "id": "9e6f810f",
   "metadata": {},
   "outputs": [],
   "source": [
    "import simpy\n",
    "import random\n",
    "import numpy as np\n",
    "import scipy.stats as st\n",
    "import matplotlib.pyplot as plt"
   ]
  },
  {
   "cell_type": "code",
   "execution_count": null,
   "id": "c7cb0aa1",
   "metadata": {},
   "outputs": [],
   "source": [
    "def source(env, customerNumber, interval, servers, serviceTime, waitTimes, verbose):\n",
    "    \"\"\"Source generates customers randomly\"\"\"\n",
    "    for i in range(customerNumber):\n",
    "        c = customer(env, 'Customer%02d' % i, servers, serviceTime, waitTimes, verbose)\n",
    "        env.process(c)\n",
    "        t = random.expovariate(1.0 / interval) # markovian arrival rate\n",
    "        yield env.timeout(t)\n",
    "\n",
    "\n",
    "def customer(env, name, servers, serviceTime, waitTimes, verbose):\n",
    "    \"\"\"Customer arrives, is served and leaves.\"\"\"\n",
    "    arrive = env.now\n",
    "    if verbose:\n",
    "        print('%7.4f %s: Here I am' % (arrive, name))\n",
    "\n",
    "    with servers.request() as req:\n",
    "        # Wait for the counter \n",
    "        yield req\n",
    "\n",
    "        wait = env.now - arrive\n",
    "        waitTimes.append(wait)\n",
    "        # We got to the counter\n",
    "        if verbose:\n",
    "            print('%7.4f %s: Waited %6.3f' % (env.now, name, wait))\n",
    "\n",
    "        tib = random.expovariate(1.0 / serviceTime) # markovian service rate\n",
    "        yield env.timeout(tib)\n",
    "        if verbose:\n",
    "            print('%7.4f %s: Finished' % (env.now, name))\n",
    "\n"
   ]
  },
  {
   "cell_type": "code",
   "execution_count": null,
   "id": "462a2ca4",
   "metadata": {},
   "outputs": [],
   "source": [
    "def runSim(num_sim, capacity, waitTimes, verbose=False):\n",
    "    for i in range(NUM_SIM):\n",
    "        env = simpy.Environment()\n",
    "        servers = simpy.Resource(env, capacity)\n",
    "        # we scale the arrival rate with the number of servers, so system load is stable\n",
    "        env.process(source(env, NEW_CUSTOMERS, INTERVAL_CUSTOMERS/capacity, servers, SERVICE_TIME, waitTimes, verbose))\n",
    "        env.run()"
   ]
  },
  {
   "cell_type": "code",
   "execution_count": null,
   "id": "8e5c15fd",
   "metadata": {},
   "outputs": [],
   "source": [
    "RANDOM_SEED = 42\n",
    "NEW_CUSTOMERS = 500 # Total number of customers per run\n",
    "INTERVAL_CUSTOMERS = 2  # Generate new customers roughly every x seconds, 1/lambda\n",
    "SERVICE_TIME = 2 # time spend at a server, mu\n",
    "NUM_SIM = 5\n",
    "random.seed(RANDOM_SEED)"
   ]
  },
  {
   "cell_type": "code",
   "execution_count": null,
   "id": "1a081bff",
   "metadata": {},
   "outputs": [],
   "source": [
    "waitTimes1 = []\n",
    "runSim(30, 1, waitTimes1)"
   ]
  },
  {
   "cell_type": "code",
   "execution_count": null,
   "id": "52b125a7",
   "metadata": {},
   "outputs": [],
   "source": [
    "waitTimes2 = []\n",
    "runSim(3, 2, waitTimes2)"
   ]
  },
  {
   "cell_type": "code",
   "execution_count": null,
   "id": "c180598b",
   "metadata": {},
   "outputs": [],
   "source": [
    "waitTimes4 = []\n",
    "runSim(3,4, waitTimes4)"
   ]
  },
  {
   "cell_type": "code",
   "execution_count": null,
   "id": "ae7aac84",
   "metadata": {},
   "outputs": [],
   "source": [
    "np.mean(waitTimes1)"
   ]
  },
  {
   "cell_type": "code",
   "execution_count": null,
   "id": "2fae6873",
   "metadata": {},
   "outputs": [],
   "source": [
    "fig, (ax1, ax2, ax3) = plt.subplots(1,3, sharey=True)\n",
    "fig.set_size_inches(10.5, 10.5)\n",
    "fig.suptitle(f\"waiting time per customer for p of {SERVICE_TIME/INTERVAL_CUSTOMERS}\")\n",
    "fig.supxlabel(\"Customer number\")\n",
    "fig.supylabel(\"Waiting time\")\n",
    "ax1.plot(np.sort(waitTimes1))\n",
    "ax1.set_title(\"1 server\")\n",
    "ax2.plot(np.sort(waitTimes2))\n",
    "ax2.set_title(\"2 servers\")\n",
    "ax3.plot(np.sort(waitTimes4))\n",
    "ax3.set_title(\"4 servers\")"
   ]
  },
  {
   "cell_type": "code",
   "execution_count": null,
   "id": "b9bdea6c",
   "metadata": {},
   "outputs": [],
   "source": [
    "np.mean(waitTimes1)"
   ]
  },
  {
   "cell_type": "code",
   "execution_count": null,
   "id": "834d0ea9",
   "metadata": {},
   "outputs": [],
   "source": [
    "np.mean(waitTimes2)"
   ]
  },
  {
   "cell_type": "code",
   "execution_count": null,
   "id": "275969f7",
   "metadata": {},
   "outputs": [],
   "source": [
    "np.mean(waitTimes4)"
   ]
  },
  {
   "cell_type": "code",
   "execution_count": null,
   "id": "90069976",
   "metadata": {},
   "outputs": [],
   "source": [
    "st.ttest_ind(waitTimes1, waitTimes2)"
   ]
  },
  {
   "cell_type": "code",
   "execution_count": null,
   "id": "06b1eaa0",
   "metadata": {},
   "outputs": [],
   "source": [
    "st.ttest_ind(waitTimes1, waitTimes4)"
   ]
  },
  {
   "cell_type": "code",
   "execution_count": null,
   "id": "add1feab",
   "metadata": {},
   "outputs": [],
   "source": [
    "SERVICE_TIME = 10\n",
    "\n",
    "waitTimes1 = []\n",
    "runSim(3, 1, waitTimes1)\n",
    "waitTimes2 = []\n",
    "runSim(3, 2, waitTimes2)\n",
    "waitTimes4 = []\n",
    "runSim(3, 4, waitTimes4)"
   ]
  },
  {
   "cell_type": "code",
   "execution_count": null,
   "id": "ab9573d6",
   "metadata": {},
   "outputs": [],
   "source": [
    "fig, (ax1, ax2, ax3) = plt.subplots(1,3, sharey=True)\n",
    "fig.set_size_inches(10.5, 10.5)\n",
    "fig.suptitle(f\"waiting time per customer for p of {SERVICE_TIME/INTERVAL_CUSTOMERS}\")\n",
    "fig.supxlabel(\"Customer number\")\n",
    "fig.supylabel(\"Waiting time\")\n",
    "ax1.plot(np.sort(waitTimes1))\n",
    "ax1.set_title(\"1 server\")\n",
    "ax2.plot(np.sort(waitTimes2))\n",
    "ax2.set_title(\"2 servers\")\n",
    "ax3.plot(np.sort(waitTimes4))\n",
    "ax3.set_title(\"4 servers\")"
   ]
  },
  {
   "cell_type": "code",
   "execution_count": null,
   "id": "b8b23ef7",
   "metadata": {},
   "outputs": [],
   "source": [
    "### assignment 2.3\n",
    "def source(env, customerNumber, interval, servers, serviceTime, waitTimes, verbose):\n",
    "    \"\"\"Source generates customers randomly\"\"\"\n",
    "    for i in range(customerNumber):\n",
    "        c = customer(env, 'Customer%02d' % i, servers, serviceTime, waitTimes, verbose)\n",
    "        env.process(c)\n",
    "        t = random.expovariate(1.0 / interval) # markovian arrival rate\n",
    "        yield env.timeout(t)\n",
    "\n",
    "\n",
    "def customer(env, name, servers, serviceTime, waitTimes, verbose):\n",
    "    \"\"\"Customer arrives, is served and leaves.\"\"\"\n",
    "    arrive = env.now\n",
    "    if verbose:\n",
    "        print('%7.4f %s: Here I am' % (arrive, name))\n",
    "        \n",
    "    # already know the service time beforehand    \n",
    "    tib = random.expovariate(1.0 / serviceTime) # markovian service rate\n",
    "\n",
    "    with servers.request(priority = int(1/tib*1000)) as req:\n",
    "        # Wait for the counter \n",
    "        yield req\n",
    "\n",
    "        wait = env.now - arrive\n",
    "        waitTimes.append(wait)\n",
    "        # We got to the counter\n",
    "        if verbose:\n",
    "            print('%7.4f %s: Waited %6.3f' % (env.now, name, wait))\n",
    "\n",
    "        \n",
    "        yield env.timeout(tib)\n",
    "        if verbose:\n",
    "            print('%7.4f %s: Finished' % (env.now, name))\n"
   ]
  },
  {
   "cell_type": "code",
   "execution_count": null,
   "id": "3619aa86",
   "metadata": {},
   "outputs": [],
   "source": [
    "def runSim(num_sim, capacity, waitTimes, verbose=False):\n",
    "    for i in range(NUM_SIM):\n",
    "        env = simpy.Environment()\n",
    "        servers = simpy.PriorityResource(env, capacity)\n",
    "        # we scale the arrival rate with the number of servers, so system load is stable\n",
    "        env.process(source(env, NEW_CUSTOMERS, INTERVAL_CUSTOMERS/capacity, servers, SERVICE_TIME, waitTimes, verbose))\n",
    "        env.run()"
   ]
  },
  {
   "cell_type": "code",
   "execution_count": null,
   "id": "497ff319",
   "metadata": {},
   "outputs": [],
   "source": [
    "SERVICE_TIME = 9\n",
    "\n",
    "waitTimes1 = []\n",
    "runSim(3, 1, waitTimes1)\n",
    "waitTimes2 = []\n",
    "runSim(3, 2, waitTimes2)\n",
    "waitTimes4 = []\n",
    "runSim(3, 4, waitTimes4)"
   ]
  },
  {
   "cell_type": "code",
   "execution_count": null,
   "id": "3c5f514f",
   "metadata": {},
   "outputs": [],
   "source": [
    "fig, (ax1, ax2, ax3) = plt.subplots(1,3, sharey=True)\n",
    "fig.set_size_inches(10.5, 10.5)\n",
    "fig.suptitle(f\"waiting time per customer for p of {SERVICE_TIME/INTERVAL_CUSTOMERS} with priority for shortest jobs\")\n",
    "fig.supxlabel(\"Customer number\")\n",
    "fig.supylabel(\"Waiting time\")\n",
    "ax1.plot(np.sort(waitTimes1))\n",
    "ax1.set_title(\"1 server\")\n",
    "ax2.plot(np.sort(waitTimes2))\n",
    "ax2.set_title(\"2 servers\")\n",
    "ax3.plot(np.sort(waitTimes4))\n",
    "ax3.set_title(\"4 servers\")"
   ]
  },
  {
   "cell_type": "code",
   "execution_count": null,
   "id": "6ffce593",
   "metadata": {},
   "outputs": [],
   "source": [
    "####2.4\n",
    "# M/D\n",
    "def source(env, customerNumber, interval, servers, serviceTime, waitTimes, verbose):\n",
    "    \"\"\"Source generates customers randomly\"\"\"\n",
    "    for i in range(customerNumber):\n",
    "        c = customer(env, 'Customer%02d' % i, servers, serviceTime, waitTimes, verbose)\n",
    "        env.process(c)\n",
    "        t = random.expovariate(1.0 / interval) # markovian arrival rate\n",
    "        yield env.timeout(t)\n",
    "\n",
    "\n",
    "def customer(env, name, servers, serviceTime, waitTimes, verbose):\n",
    "    \"\"\"Customer arrives, is served and leaves.\"\"\"\n",
    "    arrive = env.now\n",
    "    if verbose:\n",
    "        print('%7.4f %s: Here I am' % (arrive, name))\n",
    "\n",
    "    with servers.request() as req:\n",
    "        # Wait for the counter \n",
    "        yield req\n",
    "\n",
    "        wait = env.now - arrive\n",
    "        waitTimes.append(wait)\n",
    "        # We got to the counter\n",
    "        if verbose:\n",
    "            print('%7.4f %s: Waited %6.3f' % (env.now, name, wait))\n",
    "\n",
    "        tib = 0.5 # deterministic\n",
    "        yield env.timeout(tib)\n",
    "        if verbose:\n",
    "            print('%7.4f %s: Finished' % (env.now, name))\n",
    "\n"
   ]
  },
  {
   "cell_type": "code",
   "execution_count": null,
   "id": "64fb8ba1",
   "metadata": {},
   "outputs": [],
   "source": [
    "def runSim(num_sim, capacity, waitTimes, verbose=False):\n",
    "    for i in range(NUM_SIM):\n",
    "        env = simpy.Environment()\n",
    "        servers = simpy.PriorityResource(env, capacity)\n",
    "        # we scale the arrival rate with the number of servers, so system load is stable\n",
    "        env.process(source(env, NEW_CUSTOMERS, INTERVAL_CUSTOMERS/capacity, servers, SERVICE_TIME, waitTimes, verbose))\n",
    "        env.run()"
   ]
  },
  {
   "cell_type": "code",
   "execution_count": null,
   "id": "bf416774",
   "metadata": {},
   "outputs": [],
   "source": [
    "SERVICE_TIME = 9\n",
    "\n",
    "waitTimes1 = []\n",
    "runSim(3, 1, waitTimes1)\n",
    "waitTimes2 = []\n",
    "runSim(3, 2, waitTimes2)\n",
    "waitTimes4 = []\n",
    "runSim(3, 4, waitTimes4)"
   ]
  },
  {
   "cell_type": "code",
   "execution_count": null,
   "id": "186e0c03",
   "metadata": {},
   "outputs": [],
   "source": [
    "fig, (ax1, ax2, ax3) = plt.subplots(1,3, sharey=True)\n",
    "fig.set_size_inches(10.5, 10.5)\n",
    "fig.suptitle(f\"waiting time per customer for p of {SERVICE_TIME/INTERVAL_CUSTOMERS} with deterministic service rate\")\n",
    "fig.supxlabel(\"Customer number\")\n",
    "fig.supylabel(\"Waiting time\")\n",
    "ax1.plot(np.sort(waitTimes1))\n",
    "ax1.set_title(\"1 server\")\n",
    "ax2.plot(np.sort(waitTimes2))\n",
    "ax2.set_title(\"2 servers\")\n",
    "ax3.plot(np.sort(waitTimes4))\n",
    "ax3.set_title(\"4 servers\")"
   ]
  },
  {
   "cell_type": "code",
   "execution_count": null,
   "id": "896df791",
   "metadata": {},
   "outputs": [],
   "source": [
    "def source(env, customerNumber, interval, servers, serviceTime, waitTimes, verbose):\n",
    "    \"\"\"Source generates customers randomly\"\"\"\n",
    "    for i in range(customerNumber):\n",
    "        c = customer(env, 'Customer%02d' % i, servers, serviceTime, waitTimes, verbose)\n",
    "        env.process(c)\n",
    "        t = random.expovariate(1.0 / interval) # markovian arrival rate\n",
    "        yield env.timeout(t)\n",
    "\n",
    "\n",
    "def customer(env, name, servers, serviceTime, waitTimes, verbose):\n",
    "    \"\"\"Customer arrives, is served and leaves.\"\"\"\n",
    "    arrive = env.now\n",
    "    if verbose:\n",
    "        print('%7.4f %s: Here I am' % (arrive, name))\n",
    "\n",
    "    with servers.request() as req:\n",
    "        # Wait for the counter \n",
    "        yield req\n",
    "\n",
    "        wait = env.now - arrive\n",
    "        waitTimes.append(wait)\n",
    "        # We got to the counter\n",
    "        if verbose:\n",
    "            print('%7.4f %s: Waited %6.3f' % (env.now, name, wait))\n",
    "\n",
    "        # hyperexponential distribution\n",
    "        rand = np.random.random()\n",
    "        if rand < 0.25:\n",
    "            tib = random.expovariate(1/5)\n",
    "        else:\n",
    "            tib = random.expovariate(1)\n",
    "        yield env.timeout(tib)\n",
    "        if verbose:\n",
    "            print('%7.4f %s: Finished' % (env.now, name))\n"
   ]
  },
  {
   "cell_type": "code",
   "execution_count": null,
   "id": "77c0e5f3",
   "metadata": {},
   "outputs": [],
   "source": [
    "def runSim(num_sim, capacity, waitTimes, verbose=False):\n",
    "    for i in range(NUM_SIM):\n",
    "        env = simpy.Environment()\n",
    "        servers = simpy.Resource(env, capacity)\n",
    "        # we scale the arrival rate with the number of servers, so system load is stable\n",
    "        env.process(source(env, NEW_CUSTOMERS, INTERVAL_CUSTOMERS/capacity, servers, SERVICE_TIME, waitTimes, verbose))\n",
    "        env.run()"
   ]
  },
  {
   "cell_type": "code",
   "execution_count": null,
   "id": "3a36bf56",
   "metadata": {},
   "outputs": [],
   "source": [
    "INTERVAL_CUSTOMERS = 2\n",
    "\n",
    "waitTimes1 = []\n",
    "runSim(30, 1, waitTimes1)\n",
    "waitTimes2 = []\n",
    "runSim(30, 2, waitTimes2)\n",
    "waitTimes4 = []\n",
    "runSim(30, 4, waitTimes4)"
   ]
  },
  {
   "cell_type": "code",
   "execution_count": null,
   "id": "e7795569",
   "metadata": {},
   "outputs": [],
   "source": [
    "fig, (ax1, ax2, ax3) = plt.subplots(1,3, sharey=True)\n",
    "fig.set_size_inches(10.5, 10.5)\n",
    "fig.suptitle(f\"waiting time per customer for p of {2/INTERVAL_CUSTOMERS} with hyperexponential service rate\")\n",
    "fig.supxlabel(\"Customer number\")\n",
    "fig.supylabel(\"Waiting time\")\n",
    "ax1.plot(np.sort(waitTimes1))\n",
    "ax1.set_title(\"1 server\")\n",
    "ax2.plot(np.sort(waitTimes2))\n",
    "ax2.set_title(\"2 servers\")\n",
    "ax3.plot(np.sort(waitTimes4))\n",
    "ax3.set_title(\"4 servers\")"
   ]
  },
  {
   "cell_type": "code",
   "execution_count": null,
   "id": "ff2b6a48",
   "metadata": {},
   "outputs": [],
   "source": [
    "np.mean(waitTimes1)"
   ]
  }
 ],
 "metadata": {
  "kernelspec": {
   "display_name": "Python 3",
   "language": "python",
   "name": "python3"
  },
  "language_info": {
   "codemirror_mode": {
    "name": "ipython",
    "version": 3
   },
   "file_extension": ".py",
   "mimetype": "text/x-python",
   "name": "python",
   "nbconvert_exporter": "python",
   "pygments_lexer": "ipython3",
   "version": "3.9.2"
  }
 },
 "nbformat": 4,
 "nbformat_minor": 5
}
