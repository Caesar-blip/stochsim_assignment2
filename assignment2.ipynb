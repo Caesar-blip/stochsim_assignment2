{
 "cells": [
  {
   "cell_type": "code",
   "execution_count": 2,
   "id": "1471aefc",
   "metadata": {},
   "outputs": [],
   "source": [
    "import simpy"
   ]
  },
  {
   "cell_type": "code",
   "execution_count": 3,
   "id": "a1d3f5ce",
   "metadata": {},
   "outputs": [],
   "source": [
    "def clock(env, name, tick):\n",
    "     while True:\n",
    "         print(name, env.now)\n",
    "         yield env.timeout(tick)"
   ]
  },
  {
   "cell_type": "code",
   "execution_count": 4,
   "id": "5bb23a8e",
   "metadata": {},
   "outputs": [
    {
     "data": {
      "text/plain": [
       "<Process(clock) object at 0x1bb47f3d250>"
      ]
     },
     "execution_count": 4,
     "metadata": {},
     "output_type": "execute_result"
    }
   ],
   "source": [
    "env = simpy.Environment()\n",
    "env.process(clock(env, 'fast', 0.5))"
   ]
  },
  {
   "cell_type": "code",
   "execution_count": 5,
   "id": "39f691a3",
   "metadata": {},
   "outputs": [
    {
     "data": {
      "text/plain": [
       "<Process(clock) object at 0x1bb47f27820>"
      ]
     },
     "execution_count": 5,
     "metadata": {},
     "output_type": "execute_result"
    }
   ],
   "source": [
    "env.process(clock(env, 'slow', 1))"
   ]
  },
  {
   "cell_type": "code",
   "execution_count": 6,
   "id": "c8a05e1f",
   "metadata": {},
   "outputs": [
    {
     "name": "stdout",
     "output_type": "stream",
     "text": [
      "fast 0\n",
      "slow 0\n",
      "fast 0.5\n",
      "slow 1\n",
      "fast 1.0\n",
      "fast 1.5\n"
     ]
    }
   ],
   "source": [
    "env.run(until=2)"
   ]
  }
 ],
 "metadata": {
  "kernelspec": {
   "display_name": "Python 3",
   "language": "python",
   "name": "python3"
  },
  "language_info": {
   "codemirror_mode": {
    "name": "ipython",
    "version": 3
   },
   "file_extension": ".py",
   "mimetype": "text/x-python",
   "name": "python",
   "nbconvert_exporter": "python",
   "pygments_lexer": "ipython3",
   "version": "3.9.2"
  }
 },
 "nbformat": 4,
 "nbformat_minor": 5
}
