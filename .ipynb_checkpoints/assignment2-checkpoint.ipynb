{
 "cells": [
  {
   "cell_type": "code",
   "execution_count": 1,
   "id": "2f2c6bf1",
   "metadata": {},
   "outputs": [],
   "source": [
    "from helpers import *\n",
    "import pandas as pd"
   ]
  },
  {
   "cell_type": "code",
   "execution_count": null,
   "id": "60985427",
   "metadata": {},
   "outputs": [],
   "source": [
    "#2.2\n",
    "simulator1 = queuSim(capacity=1, numSim=5)\n",
    "simulator2 = queuSim(capacity=2, numSim=5)\n",
    "simulator4 = queuSim(capacity=4, numSim=5)"
   ]
  },
  {
   "cell_type": "code",
   "execution_count": null,
   "id": "b18866dd",
   "metadata": {},
   "outputs": [],
   "source": [
    "waitTimes1 = simulator1.runSim()\n",
    "waitTimes2 = simulator2.runSim()\n",
    "waitTimes4 = simulator4.runSim()"
   ]
  },
  {
   "cell_type": "code",
   "execution_count": null,
   "id": "b9aabe7d",
   "metadata": {},
   "outputs": [],
   "source": [
    "# we can reject the null hypothesis\n",
    "st.f_oneway(waitTimes1, waitTimes2, waitTimes4)"
   ]
  },
  {
   "cell_type": "code",
   "execution_count": null,
   "id": "05fef897",
   "metadata": {},
   "outputs": [],
   "source": [
    "# post hoc tests prove that there are differences between all populations\n",
    "print(st.ttest_ind(waitTimes1, waitTimes4))\n",
    "print(st.ttest_ind(waitTimes1, waitTimes2))\n",
    "print(st.ttest_ind(waitTimes2, waitTimes4))"
   ]
  },
  {
   "cell_type": "code",
   "execution_count": null,
   "id": "e7c50559",
   "metadata": {},
   "outputs": [],
   "source": [
    "# 2.2, run multiple simulations for different p\n",
    "# service time is fixed at 2 \n",
    "# customer intervals gets scaled for the amount of servers\n",
    "# p = 2/intervalcustomers\n",
    "p = np.array([0.1,0.2,0.3,0.4,0.5,0.6,0.7,0.8,0.9])\n",
    "intervalCustomers = 2/p\n",
    "means1 = []\n",
    "means2 = []\n",
    "means4 = []\n",
    "err1 = []\n",
    "err2 = []\n",
    "err4 = []\n",
    "\n",
    "for count, time in enumerate(intervalCustomers):\n",
    "    simulator1 = queuSim(capacity=1, numSim=50, newCustomers = 500, intervalCustomers = time)\n",
    "    simulator2 = queuSim(capacity=2, numSim=50, newCustomers = 500, intervalCustomers = time)\n",
    "    simulator4 = queuSim(capacity=4, numSim=50, newCustomers = 500, intervalCustomers = time)\n",
    "    \n",
    "    result1 = simulator1.runSim()\n",
    "    result2 = simulator2.runSim()\n",
    "    result4 = simulator4.runSim()\n",
    "    \n",
    "    means1.append(np.mean(result1))\n",
    "    means2.append(np.mean(result2))\n",
    "    means4.append(np.mean(result4))\n",
    "    \n",
    "    err1.append(np.std(result1))\n",
    "    err2.append(np.std(result2))\n",
    "    err4.append(np.std(result4))"
   ]
  },
  {
   "cell_type": "code",
   "execution_count": null,
   "id": "d33792d0",
   "metadata": {},
   "outputs": [],
   "source": [
    "dfAll = pd.DataFrame({'1 server': means1,\n",
    "                      '2 servers': means2,\n",
    "                      '4 servers': means4}, index = p) \n",
    "\n",
    "ax = dfAll.plot.bar(title = \"mean waiting time in M/M/N system with different workloads\",\n",
    "               ylabel = \"mean waiting time\", xlabel=\"system workload\", yerr=[err1, err2,err4])\n",
    "ax.legend(loc=2)"
   ]
  },
  {
   "cell_type": "code",
   "execution_count": null,
   "id": "07ca85a4",
   "metadata": {},
   "outputs": [],
   "source": [
    "# assignment 2.3, use a different service strategy. Shortest job first(SJF).\n",
    "p = np.array([0.1,0.2,0.3,0.4,0.5,0.6,0.7,0.8,0.9])\n",
    "intervalCustomers = 2/p\n",
    "means1 = []\n",
    "means2 = []\n",
    "means4 = []\n",
    "err1 = []\n",
    "err2 = []\n",
    "err4 = []\n",
    "\n",
    "for count, time in enumerate(intervalCustomers):\n",
    "    simulator1 = queuSim(capacity=1, numSim=50, newCustomers = 500, helpStrat = \"SJF\", intervalCustomers = time)\n",
    "    simulator2 = queuSim(capacity=2, numSim=50, newCustomers = 500, helpStrat = \"SJF\", intervalCustomers = time)\n",
    "    simulator4 = queuSim(capacity=4, numSim=50, newCustomers = 500, helpStrat = \"SJF\", intervalCustomers = time)\n",
    "    \n",
    "    result1 = simulator1.runSim()\n",
    "    result2 = simulator2.runSim()\n",
    "    result4 = simulator4.runSim()\n",
    "    \n",
    "    means1.append(np.mean(result1))\n",
    "    means2.append(np.mean(result2))\n",
    "    means4.append(np.mean(result4))\n",
    "    \n",
    "    err1.append(np.std(result1))\n",
    "    err2.append(np.std(result2))\n",
    "    err4.append(np.std(result4))"
   ]
  },
  {
   "cell_type": "code",
   "execution_count": null,
   "id": "eb07419e",
   "metadata": {},
   "outputs": [],
   "source": [
    "dfAllSJF = pd.DataFrame({'1 server': means1,\n",
    "                      '2 servers': means2,\n",
    "                      '4 servers': means4}, index = p) \n",
    "\n",
    "ax = dfAllSJF.plot.bar(title = \"mean waiting time in M/M/N/SJF system with different workloads\",\n",
    "               ylabel = \"mean waiting time\", xlabel=\"system workload\", yerr=[err1, err2,err4])\n",
    "ax.legend(loc=2)"
   ]
  },
  {
   "cell_type": "code",
   "execution_count": 2,
   "id": "cd037f85",
   "metadata": {},
   "outputs": [],
   "source": [
    "##2.4\n",
    "# Deterministic sercive distribution\n",
    "p = np.array([0.1,0.2,0.3,0.4,0.5,0.6,0.7,0.8,0.9])\n",
    "intervalCustomers = 2/p\n",
    "means1 = []\n",
    "means2 = []\n",
    "means4 = []\n",
    "err1 = []\n",
    "err2 = []\n",
    "err4 = []\n",
    "\n",
    "for count, time in enumerate(intervalCustomers):\n",
    "    simulator1 = queuSim(capacity=1, numSim=50, newCustomers = 500, intervalCustomers = time, serviceDistribution = \"D\")\n",
    "    simulator2 = queuSim(capacity=2, numSim=50, newCustomers = 500, intervalCustomers = time, serviceDistribution = \"D\")\n",
    "    simulator4 = queuSim(capacity=4, numSim=50, newCustomers = 500, intervalCustomers = time, serviceDistribution = \"D\")\n",
    "    \n",
    "    result1 = simulator1.runSim()\n",
    "    result2 = simulator2.runSim()\n",
    "    result4 = simulator4.runSim()\n",
    "    \n",
    "    means1.append(np.mean(result1))\n",
    "    means2.append(np.mean(result2))\n",
    "    means4.append(np.mean(result4))\n",
    "    \n",
    "    err1.append(np.std(result1))\n",
    "    err2.append(np.std(result2))\n",
    "    err4.append(np.std(result4))"
   ]
  },
  {
   "cell_type": "code",
   "execution_count": 4,
   "id": "f9350fe2",
   "metadata": {},
   "outputs": [
    {
     "data": {
      "text/plain": [
       "<matplotlib.legend.Legend at 0x2234518e4f0>"
      ]
     },
     "execution_count": 4,
     "metadata": {},
     "output_type": "execute_result"
    },
    {
     "data": {
      "image/png": "[encoded data removed]",
      "text/plain": [
       "<Figure size 432x288 with 1 Axes>"
      ]
     },
     "metadata": {
      "needs_background": "light"
     },
     "output_type": "display_data"
    }
   ],
   "source": [
    "dfAllDet = pd.DataFrame({'1 server': means1,\n",
    "                      '2 servers': means2,\n",
    "                      '4 servers': means4}, index = p) \n",
    "\n",
    "ax = dfAllDet.plot.bar(title = \"mean waiting time in M/M/N/SJF system with different workloads\",\n",
    "               ylabel = \"mean waiting time\", xlabel=\"system workload\", yerr=[err1, err2,err4])\n",
    "ax.legend(loc=2)"
   ]
  },
  {
   "cell_type": "code",
   "execution_count": 5,
   "id": "f2cd9ed1",
   "metadata": {},
   "outputs": [],
   "source": [
    "##2.4\n",
    "# Deterministic sercive distribution\n",
    "p = np.array([0.1,0.2,0.3,0.4,0.5,0.6,0.7,0.8,0.9])\n",
    "intervalCustomers = 2/p\n",
    "means1 = []\n",
    "means2 = []\n",
    "means4 = []\n",
    "err1 = []\n",
    "err2 = []\n",
    "err4 = []\n",
    "\n",
    "for count, time in enumerate(intervalCustomers):\n",
    "    simulator1 = queuSim(capacity=1, numSim=50, newCustomers = 500, intervalCustomers = time, serviceDistribution = \"H\")\n",
    "    simulator2 = queuSim(capacity=2, numSim=50, newCustomers = 500, intervalCustomers = time, serviceDistribution = \"H\")\n",
    "    simulator4 = queuSim(capacity=4, numSim=50, newCustomers = 500, intervalCustomers = time, serviceDistribution = \"H\")\n",
    "    \n",
    "    result1 = simulator1.runSim()\n",
    "    result2 = simulator2.runSim()\n",
    "    result4 = simulator4.runSim()\n",
    "    \n",
    "    means1.append(np.mean(result1))\n",
    "    means2.append(np.mean(result2))\n",
    "    means4.append(np.mean(result4))\n",
    "    \n",
    "    err1.append(np.std(result1))\n",
    "    err2.append(np.std(result2))\n",
    "    err4.append(np.std(result4))"
   ]
  },
  {
   "cell_type": "code",
   "execution_count": 6,
   "id": "5d9ca70e",
   "metadata": {},
   "outputs": [
    {
     "data": {
      "text/plain": [
       "<matplotlib.legend.Legend at 0x2234539ba90>"
      ]
     },
     "execution_count": 6,
     "metadata": {},
     "output_type": "execute_result"
    },
    {
     "data": {
      "image/png": "[encoded data removed]",
      "text/plain": [
       "<Figure size 432x288 with 1 Axes>"
      ]
     },
     "metadata": {
      "needs_background": "light"
     },
     "output_type": "display_data"
    }
   ],
   "source": [
    "dfAllHyp = pd.DataFrame({'1 server': means1,\n",
    "                      '2 servers': means2,\n",
    "                      '4 servers': means4}, index = p) \n",
    "\n",
    "ax = dfAllHyp.plot.bar(title = \"mean waiting time in M/M/N/SJF system with different workloads\",\n",
    "               ylabel = \"mean waiting time\", xlabel=\"system workload\", yerr=[err1, err2,err4])\n",
    "ax.legend(loc=2)"
   ]
  }
 ],
 "metadata": {
  "kernelspec": {
   "display_name": "Python 3",
   "language": "python",
   "name": "python3"
  },
  "language_info": {
   "codemirror_mode": {
    "name": "ipython",
    "version": 3
   },
   "file_extension": ".py",
   "mimetype": "text/x-python",
   "name": "python",
   "nbconvert_exporter": "python",
   "pygments_lexer": "ipython3",
   "version": "3.9.2"
  }
 },
 "nbformat": 4,
 "nbformat_minor": 5
}
